{
  "nbformat": 4,
  "nbformat_minor": 0,
  "metadata": {
    "colab": {
      "provenance": [],
      "authorship_tag": "ABX9TyN1OM0yAGsJo3TsKStWmgSX",
      "include_colab_link": true
    },
    "kernelspec": {
      "name": "python3",
      "display_name": "Python 3"
    },
    "language_info": {
      "name": "python"
    }
  },
  "cells": [
    {
      "cell_type": "markdown",
      "metadata": {
        "id": "view-in-github",
        "colab_type": "text"
      },
      "source": [
        "<a href=\"https://colab.research.google.com/github/MiguelN23590272/UNIDAD-1/blob/main/practicaCinco.ipynb\" target=\"_parent\"><img src=\"https://colab.research.google.com/assets/colab-badge.svg\" alt=\"Open In Colab\"/></a>"
      ]
    },
    {
      "cell_type": "code",
      "execution_count": 1,
      "metadata": {
        "colab": {
          "base_uri": "https://localhost:8080/"
        },
        "id": "KvQ1-blNeR9W",
        "outputId": "2e847314-c540-4eb1-e551-711d2113301f"
      },
      "outputs": [
        {
          "output_type": "stream",
          "name": "stdout",
          "text": [
            "cual area deseas calcular: \n",
            "1- Area del rectangulo \n",
            "2-Area del triangulo \n",
            "Elige una opcion: 2\n",
            "Escribe la base del triangulo: 34.5\n",
            "Escribe la altura del triangulo: 56.7\n",
            "Area del triangulo:  978.075\n"
          ]
        }
      ],
      "source": [
        "class poligono:\n",
        "  \"\"\"Define un poligono segun su base y su altura\"\"\"\n",
        "  def __init__(self,b,h):\n",
        "    self.b=b\n",
        "    self.h=h\n",
        "class Rectangulo(poligono):\n",
        "  def area(self):\n",
        "    return self.b * self.h\n",
        "class Triangulo(poligono):\n",
        "  def area(self):\n",
        "    return (self.b * self.h)/2\n",
        "def menu():\n",
        "  print(\"cual area deseas calcular: \")\n",
        "  print(\"1- Area del rectangulo \")\n",
        "  print(\"2-Area del triangulo \")\n",
        "\n",
        "  opcion = input(\"Elige una opcion: \")\n",
        "  if opcion == \"1\":\n",
        "    ba = float(input(\"Escribe la base del rectangulo: \"))\n",
        "    al = float(input(\"Escribe la altura del rectangulo: \"))\n",
        "    rectangulo = Rectangulo(ba,al)\n",
        "    print(\"Area del rectangulo: \",rectangulo.area())\n",
        "  elif opcion == \"2\":\n",
        "    ba = float(input(\"Escribe la base del triangulo: \"))\n",
        "    al = float(input(\"Escribe la altura del triangulo: \"))\n",
        "    triangulo = Triangulo(ba,al)\n",
        "    print(\"Area del triangulo: \",triangulo.area())\n",
        "menu()"
      ]
    }
  ]
}