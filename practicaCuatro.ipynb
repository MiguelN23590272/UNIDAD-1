{
  "nbformat": 4,
  "nbformat_minor": 0,
  "metadata": {
    "colab": {
      "provenance": [],
      "authorship_tag": "ABX9TyOZCODgf1LsimQBE5AmQixB",
      "include_colab_link": true
    },
    "kernelspec": {
      "name": "python3",
      "display_name": "Python 3"
    },
    "language_info": {
      "name": "python"
    }
  },
  "cells": [
    {
      "cell_type": "markdown",
      "metadata": {
        "id": "view-in-github",
        "colab_type": "text"
      },
      "source": [
        "<a href=\"https://colab.research.google.com/github/MiguelN23590272/UNIDAD-1/blob/main/practicaCuatro.ipynb\" target=\"_parent\"><img src=\"https://colab.research.google.com/assets/colab-badge.svg\" alt=\"Open In Colab\"/></a>"
      ]
    },
    {
      "cell_type": "code",
      "execution_count": 1,
      "metadata": {
        "colab": {
          "base_uri": "https://localhost:8080/"
        },
        "id": "rxfTQvLvJ3Fw",
        "outputId": "9a725567-053c-4a08-d1f2-5bb4d472ec12"
      },
      "outputs": [
        {
          "output_type": "stream",
          "name": "stdout",
          "text": [
            "Escribe la base: 23.5\n",
            "Escribe la altura: 34.5\n",
            "Area del rectangulo que tiene una base de:  23.5 y altura de 34.5 su area es 810.75\n"
          ]
        }
      ],
      "source": [
        "class Rectangulo:\n",
        "  def __init__(self,b,h):\n",
        "    self.b=b\n",
        "    self.h=h\n",
        "  def area(self):\n",
        "    return self.b * self.h\n",
        "ba = float(input(\"Escribe la base: \"))\n",
        "al = float(input(\"Escribe la altura: \"))\n",
        "rectangulo = Rectangulo(ba,al)\n",
        "print(\"Area del rectangulo que tiene una base de: \",ba,\"y altura de\",al,\"su area es\",rectangulo.area())"
      ]
    }
  ]
}