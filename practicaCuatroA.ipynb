{
  "nbformat": 4,
  "nbformat_minor": 0,
  "metadata": {
    "colab": {
      "provenance": [],
      "authorship_tag": "ABX9TyNfwtEvaqwSEED22xihPE66",
      "include_colab_link": true
    },
    "kernelspec": {
      "name": "python3",
      "display_name": "Python 3"
    },
    "language_info": {
      "name": "python"
    }
  },
  "cells": [
    {
      "cell_type": "markdown",
      "metadata": {
        "id": "view-in-github",
        "colab_type": "text"
      },
      "source": [
        "<a href=\"https://colab.research.google.com/github/MiguelN23590272/UNIDAD-1/blob/main/practicaCuatroA.ipynb\" target=\"_parent\"><img src=\"https://colab.research.google.com/assets/colab-badge.svg\" alt=\"Open In Colab\"/></a>"
      ]
    },
    {
      "cell_type": "code",
      "execution_count": 2,
      "metadata": {
        "colab": {
          "base_uri": "https://localhost:8080/"
        },
        "id": "fhHXKjI2NUaC",
        "outputId": "8ed3efbb-3007-4ba2-c16a-a4c747e77d7e"
      },
      "outputs": [
        {
          "output_type": "stream",
          "name": "stdout",
          "text": [
            "Escribe la base: 34.4\n",
            "Escribe la altura: 45.5\n",
            "Area del triangulo que tiene una base de:  34.4  y una altura de  45.5  su area es  782.6\n"
          ]
        }
      ],
      "source": [
        "class Triangulo:\n",
        "  \"\"\"Define el tiangulo segun su base y su altura\"\"\"\n",
        "  def __init__(self,b,h):\n",
        "    self.b=b\n",
        "    self.h=h\n",
        "  def area (self):\n",
        "    r= (self.b * self.h)/2\n",
        "    return r\n",
        "ba = float(input(\"Escribe la base: \"))\n",
        "al = float(input(\"Escribe la altura: \"))\n",
        "triangulo = Triangulo(ba,al)\n",
        "print(\"Area del triangulo que tiene una base de: \",ba,\" y una altura de \",al,\" su area es \",triangulo.area())"
      ]
    }
  ]
}