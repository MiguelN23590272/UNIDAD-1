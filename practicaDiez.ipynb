{
  "nbformat": 4,
  "nbformat_minor": 0,
  "metadata": {
    "colab": {
      "provenance": [],
      "authorship_tag": "ABX9TyPDIqgS7j2h6JnMbmn2fE2G",
      "include_colab_link": true
    },
    "kernelspec": {
      "name": "python3",
      "display_name": "Python 3"
    },
    "language_info": {
      "name": "python"
    }
  },
  "cells": [
    {
      "cell_type": "markdown",
      "metadata": {
        "id": "view-in-github",
        "colab_type": "text"
      },
      "source": [
        "<a href=\"https://colab.research.google.com/github/MiguelN23590272/UNIDAD-1/blob/main/practicaDiez.ipynb\" target=\"_parent\"><img src=\"https://colab.research.google.com/assets/colab-badge.svg\" alt=\"Open In Colab\"/></a>"
      ]
    },
    {
      "cell_type": "code",
      "execution_count": 1,
      "metadata": {
        "colab": {
          "base_uri": "https://localhost:8080/"
        },
        "id": "F6rn-_y1G0Sn",
        "outputId": "aca68633-4b21-4b5a-8463-9a62a4f0af49"
      },
      "outputs": [
        {
          "output_type": "stream",
          "name": "stdout",
          "text": [
            "Menu\n",
            "Opcion 1: \n",
            "Opcion 2: \n",
            "Opcion 3: \n",
            "Opcion 4: Salir: \n",
            "Selecciona una opcion: 1\n",
            "Elegiste la opcion uno: \n",
            "Menu\n",
            "Opcion 1: \n",
            "Opcion 2: \n",
            "Opcion 3: \n",
            "Opcion 4: Salir: \n",
            "Selecciona una opcion: 2\n",
            "Eligiste la opcion dos: \n",
            "Menu\n",
            "Opcion 1: \n",
            "Opcion 2: \n",
            "Opcion 3: \n",
            "Opcion 4: Salir: \n",
            "Selecciona una opcion: 3\n",
            "Elegiste la opcion Tres: \n",
            "Menu\n",
            "Opcion 1: \n",
            "Opcion 2: \n",
            "Opcion 3: \n",
            "Opcion 4: Salir: \n",
            "Selecciona una opcion: 4\n",
            "Saliste del menu\n"
          ]
        }
      ],
      "source": [
        "#programa hacer un menu que te diga seleccionaste la opcion uno etc while\n",
        "class Menu:\n",
        "\tdef __init__(self):\n",
        "\t\tself.opcion = 0\n",
        "\n",
        "\tdef Opciones_menu(self):\n",
        "\t\tprint(\"Menu\")\n",
        "\t\tprint(\"Opcion 1: \")\n",
        "\t\tprint(\"Opcion 2: \")\n",
        "\t\tprint(\"Opcion 3: \")\n",
        "\t\tprint(\"Opcion 4: Salir: \")\n",
        "\n",
        "\tdef seleccionar(self):\n",
        "\t\tself.opcion = int(input(\"Selecciona una opcion: \"))\n",
        "\n",
        "\tdef opc(self):\n",
        "\t\tif self.opcion == 1:\n",
        "\t\t\tprint(\"Elegiste la opcion uno: \")\n",
        "\t\telif self.opcion == 2:\n",
        "\t\t\tprint(\"Eligiste la opcion dos: \")\n",
        "\t\telif self.opcion == 3:\n",
        "\t\t\tprint(\"Elegiste la opcion Tres: \")\n",
        "\t\telif self.opcion == 4:\n",
        "\t\t\tprint(\"Saliste del menu\")\n",
        "\t\telse:\n",
        "\t\t\tprint(\"no opcion\")\n",
        "\n",
        "\tdef iniciar(self):\n",
        "\t\twhile self.opcion != 4:\n",
        "\t\t\tself.Opciones_menu()\n",
        "\t\t\tself.seleccionar()\n",
        "\t\t\tself.opc()\n",
        "menu = Menu()\n",
        "menu.iniciar()\n",
        "\n",
        "3"
      ]
    }
  ]
}