{
  "nbformat": 4,
  "nbformat_minor": 0,
  "metadata": {
    "colab": {
      "provenance": [],
      "authorship_tag": "ABX9TyMrEZsjScmS8KNGhNX9BxtG",
      "include_colab_link": true
    },
    "kernelspec": {
      "name": "python3",
      "display_name": "Python 3"
    },
    "language_info": {
      "name": "python"
    }
  },
  "cells": [
    {
      "cell_type": "markdown",
      "metadata": {
        "id": "view-in-github",
        "colab_type": "text"
      },
      "source": [
        "<a href=\"https://colab.research.google.com/github/MiguelN23590272/UNIDAD-1/blob/main/practicaDosA.ipynb\" target=\"_parent\"><img src=\"https://colab.research.google.com/assets/colab-badge.svg\" alt=\"Open In Colab\"/></a>"
      ]
    },
    {
      "cell_type": "code",
      "execution_count": 1,
      "metadata": {
        "colab": {
          "base_uri": "https://localhost:8080/"
        },
        "id": "WiCWZEPv_qzx",
        "outputId": "0197c251-9940-4ea9-98c2-d32252ae4f25"
      },
      "outputs": [
        {
          "output_type": "stream",
          "name": "stdout",
          "text": [
            "Hola,Pablo!\n",
            "Pablo\n"
          ]
        }
      ],
      "source": [
        "class Alumno:\n",
        "  def __init__(self):\n",
        "    self.nombre = \"Pablo\"\n",
        "  def saludar(self):\n",
        "    print(f\"Hola,{self.nombre}!\")\n",
        "x = Alumno()\n",
        "x.saludar()\n",
        "print(x.nombre)"
      ]
    }
  ]
}