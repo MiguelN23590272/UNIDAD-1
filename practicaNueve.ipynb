{
  "nbformat": 4,
  "nbformat_minor": 0,
  "metadata": {
    "colab": {
      "provenance": [],
      "authorship_tag": "ABX9TyNT9R3Fiss+/wBohcUhhu6g",
      "include_colab_link": true
    },
    "kernelspec": {
      "name": "python3",
      "display_name": "Python 3"
    },
    "language_info": {
      "name": "python"
    }
  },
  "cells": [
    {
      "cell_type": "markdown",
      "metadata": {
        "id": "view-in-github",
        "colab_type": "text"
      },
      "source": [
        "<a href=\"https://colab.research.google.com/github/MiguelN23590272/UNIDAD-1/blob/main/practicaNueve.ipynb\" target=\"_parent\"><img src=\"https://colab.research.google.com/assets/colab-badge.svg\" alt=\"Open In Colab\"/></a>"
      ]
    },
    {
      "cell_type": "code",
      "execution_count": 1,
      "metadata": {
        "colab": {
          "base_uri": "https://localhost:8080/",
          "height": 220
        },
        "id": "9d0Iz1qRExhH",
        "outputId": "19816955-381a-408f-a75e-c4e8c5711e6b"
      },
      "outputs": [
        {
          "name": "stdout",
          "output_type": "stream",
          "text": [
            "Ingresa un un numero: 9\n"
          ]
        },
        {
          "output_type": "error",
          "ename": "TypeError",
          "evalue": "Tablamul.__init__() takes 1 positional argument but 2 were given",
          "traceback": [
            "\u001b[0;31m---------------------------------------------------------------------------\u001b[0m",
            "\u001b[0;31mTypeError\u001b[0m                                 Traceback (most recent call last)",
            "\u001b[0;32m<ipython-input-1-6f8a718e0426>\u001b[0m in \u001b[0;36m<cell line: 11>\u001b[0;34m()\u001b[0m\n\u001b[1;32m      9\u001b[0m \u001b[0mnumero\u001b[0m \u001b[0;34m=\u001b[0m \u001b[0mint\u001b[0m\u001b[0;34m(\u001b[0m\u001b[0minput\u001b[0m\u001b[0;34m(\u001b[0m\u001b[0;34m\"Ingresa un un numero: \"\u001b[0m\u001b[0;34m)\u001b[0m\u001b[0;34m)\u001b[0m\u001b[0;34m\u001b[0m\u001b[0;34m\u001b[0m\u001b[0m\n\u001b[1;32m     10\u001b[0m \u001b[0;34m\u001b[0m\u001b[0m\n\u001b[0;32m---> 11\u001b[0;31m \u001b[0mtabla\u001b[0m \u001b[0;34m=\u001b[0m \u001b[0mTablamul\u001b[0m\u001b[0;34m(\u001b[0m\u001b[0mnumero\u001b[0m\u001b[0;34m)\u001b[0m\u001b[0;34m\u001b[0m\u001b[0;34m\u001b[0m\u001b[0m\n\u001b[0m\u001b[1;32m     12\u001b[0m \u001b[0mtabla\u001b[0m\u001b[0;34m.\u001b[0m\u001b[0mmostar\u001b[0m\u001b[0;34m(\u001b[0m\u001b[0;34m)\u001b[0m\u001b[0;34m\u001b[0m\u001b[0;34m\u001b[0m\u001b[0m\n",
            "\u001b[0;31mTypeError\u001b[0m: Tablamul.__init__() takes 1 positional argument but 2 were given"
          ]
        }
      ],
      "source": [
        "class Tablamul():\n",
        "\tdef __init__(self):\n",
        "\t\tsefl.numero = numero\n",
        "\tdef mostrar(self):\n",
        "\t\tprint(f\"\\n Tabla del: {self.numero}\")\n",
        "\t\tfor i in range(1,11):\n",
        "\t\t\tprint(f\"{self.numero} X {i} = {self.numero * i}\")\n",
        "\n",
        "numero = int(input(\"Ingresa un un numero: \"))\n",
        "\n",
        "tabla = Tablamul(numero)\n",
        "tabla.mostar()"
      ]
    }
  ]
}