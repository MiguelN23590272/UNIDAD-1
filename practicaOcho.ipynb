{
  "nbformat": 4,
  "nbformat_minor": 0,
  "metadata": {
    "colab": {
      "provenance": [],
      "authorship_tag": "ABX9TyM55cUc9beQpHCoE7oqxVlL",
      "include_colab_link": true
    },
    "kernelspec": {
      "name": "python3",
      "display_name": "Python 3"
    },
    "language_info": {
      "name": "python"
    }
  },
  "cells": [
    {
      "cell_type": "markdown",
      "metadata": {
        "id": "view-in-github",
        "colab_type": "text"
      },
      "source": [
        "<a href=\"https://colab.research.google.com/github/MiguelN23590272/UNIDAD-1/blob/main/practicaOcho.ipynb\" target=\"_parent\"><img src=\"https://colab.research.google.com/assets/colab-badge.svg\" alt=\"Open In Colab\"/></a>"
      ]
    },
    {
      "cell_type": "code",
      "execution_count": null,
      "metadata": {
        "id": "TyRqTdwWD9hH"
      },
      "outputs": [],
      "source": [
        "class Calificaciones:\n",
        "\tdef __init__(self):\n",
        "\t\tself.c1= 0\n",
        "\t\tself.c2= 0\n",
        "\t\tself.c3= 0\n",
        "\t\tself.n= \"\"\n",
        "class prom(Calificaciones):\n",
        "\tdef promedio(self):\n",
        "\t\tr=(self.c1+self.c2+self.c3)/3\n",
        "\t\treturn r\n",
        "class comparacion(prom):\n",
        "\tdef comp(self,num):\n",
        "\t\tif self.c1 >= 70 and self.c2 >= 70 and self.c3 >= 70:\n",
        "\t\t\tr=(self.c1+self.c2+self.c3)/3\n",
        "\t\telse:\n",
        "\t\t\tr = 0\n",
        "\t\treturn r\n",
        "class cap(Calificaciones):\n",
        "\t\tCalificaciones = Calificaciones()\n",
        "\t\tCalificaciones.c1 = int(input(\"Escribe la primera calificacion: \"))\n",
        "\t\tCalificaciones.c2 = int(input(\"Escribe la segunda calificacion: \"))\n",
        "\t\tCalificaciones.c3 = int(input(\"Escribe la tercera calificacion: \"))\n",
        "\t\tCalificaciones.n = input(\"Ingresa el nombre: \")\n",
        "cal.comparacion(cal.prom())\n",
        "p = Calificaciones.promedio()\n",
        "c = Calificaciones.comparacion(p)\n",
        "print(cal.n,\" con calificaciones: \",cal.c1,\",\", cal.c2,\",\",cal.c3,\" su promdio es: \",p ,\"esta\",c)"
      ]
    }
  ]
}