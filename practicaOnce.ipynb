{
  "nbformat": 4,
  "nbformat_minor": 0,
  "metadata": {
    "colab": {
      "provenance": [],
      "authorship_tag": "ABX9TyNVaGlKwcWRWsYUx3gIUsyp",
      "include_colab_link": true
    },
    "kernelspec": {
      "name": "python3",
      "display_name": "Python 3"
    },
    "language_info": {
      "name": "python"
    }
  },
  "cells": [
    {
      "cell_type": "markdown",
      "metadata": {
        "id": "view-in-github",
        "colab_type": "text"
      },
      "source": [
        "<a href=\"https://colab.research.google.com/github/MiguelN23590272/UNIDAD-1/blob/main/practicaOnce.ipynb\" target=\"_parent\"><img src=\"https://colab.research.google.com/assets/colab-badge.svg\" alt=\"Open In Colab\"/></a>"
      ]
    },
    {
      "cell_type": "code",
      "execution_count": 8,
      "metadata": {
        "colab": {
          "base_uri": "https://localhost:8080/"
        },
        "id": "iyMMdQ9gI5sR",
        "outputId": "d6cd8542-43cc-4cb5-f359-10526abb5378"
      },
      "outputs": [
        {
          "name": "stdout",
          "output_type": "stream",
          "text": [
            "Ingresa tu nombre: migue\n",
            "Ingresa tu nombre: \n"
          ]
        }
      ],
      "source": [
        "#pedir nombre con ciclos y clases\n",
        "class Persona:\n",
        "  def __init__(self,nombre = \" \"):\n",
        "    self.nombre = nombre\n",
        "  def pedir_nombre(self):\n",
        "    self.nombre = input (\"Ingresa tu nombre: \")\n",
        "  def mostrar_nombre(self):\n",
        "    print(f\"Hola, {self.nombre} \")\n",
        "persona = Persona()\n",
        "\n",
        "while True:\n",
        "  persona.pedir_nombre()\n",
        "  if persona.nombre == \"\":\n",
        "    break\n",
        "  persona.mostrar_nombre"
      ]
    }
  ]
}