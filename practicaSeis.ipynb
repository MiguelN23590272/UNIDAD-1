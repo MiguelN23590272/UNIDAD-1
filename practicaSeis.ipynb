{
  "nbformat": 4,
  "nbformat_minor": 0,
  "metadata": {
    "colab": {
      "provenance": [],
      "authorship_tag": "ABX9TyP1hyHcmPijMxirqVRpE8gD",
      "include_colab_link": true
    },
    "kernelspec": {
      "name": "python3",
      "display_name": "Python 3"
    },
    "language_info": {
      "name": "python"
    }
  },
  "cells": [
    {
      "cell_type": "markdown",
      "metadata": {
        "id": "view-in-github",
        "colab_type": "text"
      },
      "source": [
        "<a href=\"https://colab.research.google.com/github/MiguelN23590272/UNIDAD-1/blob/main/practicaSeis.ipynb\" target=\"_parent\"><img src=\"https://colab.research.google.com/assets/colab-badge.svg\" alt=\"Open In Colab\"/></a>"
      ]
    },
    {
      "cell_type": "code",
      "execution_count": 2,
      "metadata": {
        "colab": {
          "base_uri": "https://localhost:8080/"
        },
        "id": "x0DF1Zts74y-",
        "outputId": "0012452a-1cfc-4912-f7f7-56aab0878aa5"
      },
      "outputs": [
        {
          "output_type": "stream",
          "name": "stdout",
          "text": [
            "Escribe la primera calificacion: 80\n",
            "Escribe la segunda calificacion: 80\n",
            "Escribe la tercera calificacion: 80\n",
            "Ingresa el nombre: niguel\n",
            "niguel  con calificaciones:  80 , 80 , 80  su promdio es:  80.0 esta  aprobado\n"
          ]
        }
      ],
      "source": [
        "class Calificaciones:\n",
        "\tdef __init__(self):\n",
        "\t\tself.c1= 0\n",
        "\t\tself.c2= 0\n",
        "\t\tself.c3= 0\n",
        "\t\tself.n= \"\"\n",
        "\tdef prom(self):\n",
        "\t\tr=(self.c1+self.c2+self.c3)/3\n",
        "\t\treturn r\n",
        "\tdef comparacion(self,num):\n",
        "\t\tif num > 70:\n",
        "\t\t\trs= \" aprobado\"\n",
        "\t\telse:\n",
        "\t\t\trs = \"reprobado\"\n",
        "\t\treturn rs\n",
        "cal = Calificaciones()\n",
        "cal.c1 = int(input(\"Escribe la primera calificacion: \"))\n",
        "cal.c2 = int(input(\"Escribe la segunda calificacion: \"))\n",
        "cal.c3 = int(input(\"Escribe la tercera calificacion: \"))\n",
        "cal.n = input(\"Ingresa el nombre: \")\n",
        "\"\"\"cal.comparacion(cal.prom())\"\"\"\n",
        "p = cal.prom()\n",
        "c = cal.comparacion(p)\n",
        "print(cal.n,\" con calificaciones: \",cal.c1,\",\", cal.c2,\",\",cal.c3,\" su promdio es: \",p ,\"esta\",c)\n",
        "80"
      ]
    }
  ]
}