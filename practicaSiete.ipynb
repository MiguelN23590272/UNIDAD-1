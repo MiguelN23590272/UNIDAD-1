{
  "nbformat": 4,
  "nbformat_minor": 0,
  "metadata": {
    "colab": {
      "provenance": [],
      "authorship_tag": "ABX9TyPmqoP4cZtV70ZUHWnASjv5",
      "include_colab_link": true
    },
    "kernelspec": {
      "name": "python3",
      "display_name": "Python 3"
    },
    "language_info": {
      "name": "python"
    }
  },
  "cells": [
    {
      "cell_type": "markdown",
      "metadata": {
        "id": "view-in-github",
        "colab_type": "text"
      },
      "source": [
        "<a href=\"https://colab.research.google.com/github/MiguelN23590272/UNIDAD-1/blob/main/practicaSiete.ipynb\" target=\"_parent\"><img src=\"https://colab.research.google.com/assets/colab-badge.svg\" alt=\"Open In Colab\"/></a>"
      ]
    },
    {
      "cell_type": "code",
      "execution_count": 2,
      "metadata": {
        "colab": {
          "base_uri": "https://localhost:8080/",
          "height": 238
        },
        "id": "eq8Kmp6WCSNJ",
        "outputId": "032bff83-d63a-4561-d98a-5797a40f3587"
      },
      "outputs": [
        {
          "output_type": "error",
          "ename": "NameError",
          "evalue": "name 'cal' is not defined",
          "traceback": [
            "\u001b[0;31m---------------------------------------------------------------------------\u001b[0m",
            "\u001b[0;31mNameError\u001b[0m                                 Traceback (most recent call last)",
            "\u001b[0;32m<ipython-input-2-39b7ce572ca1>\u001b[0m in \u001b[0;36m<cell line: 23>\u001b[0;34m()\u001b[0m\n\u001b[1;32m     21\u001b[0m                 \u001b[0mcal\u001b[0m\u001b[0;34m.\u001b[0m\u001b[0mn\u001b[0m \u001b[0;34m=\u001b[0m \u001b[0minput\u001b[0m\u001b[0;34m(\u001b[0m\u001b[0;34m\"Ingresa el nombre: \"\u001b[0m\u001b[0;34m)\u001b[0m\u001b[0;34m\u001b[0m\u001b[0;34m\u001b[0m\u001b[0m\n\u001b[1;32m     22\u001b[0m \u001b[0;34m\"\"\"cal.comparacion(cal.prom())\"\"\"\u001b[0m\u001b[0;34m\u001b[0m\u001b[0;34m\u001b[0m\u001b[0m\n\u001b[0;32m---> 23\u001b[0;31m \u001b[0mp\u001b[0m \u001b[0;34m=\u001b[0m \u001b[0mcal\u001b[0m\u001b[0;34m.\u001b[0m\u001b[0mprom\u001b[0m\u001b[0;34m(\u001b[0m\u001b[0;34m)\u001b[0m\u001b[0;34m\u001b[0m\u001b[0;34m\u001b[0m\u001b[0m\n\u001b[0m\u001b[1;32m     24\u001b[0m \u001b[0mc\u001b[0m \u001b[0;34m=\u001b[0m \u001b[0mcal\u001b[0m\u001b[0;34m.\u001b[0m\u001b[0mcomparacion\u001b[0m\u001b[0;34m(\u001b[0m\u001b[0mp\u001b[0m\u001b[0;34m)\u001b[0m\u001b[0;34m\u001b[0m\u001b[0;34m\u001b[0m\u001b[0m\n\u001b[1;32m     25\u001b[0m \u001b[0mprint\u001b[0m\u001b[0;34m(\u001b[0m\u001b[0mcal\u001b[0m\u001b[0;34m.\u001b[0m\u001b[0mn\u001b[0m\u001b[0;34m,\u001b[0m\u001b[0;34m\" con calificaciones: \"\u001b[0m\u001b[0;34m,\u001b[0m\u001b[0mcal\u001b[0m\u001b[0;34m.\u001b[0m\u001b[0mc1\u001b[0m\u001b[0;34m,\u001b[0m\u001b[0;34m\",\"\u001b[0m\u001b[0;34m,\u001b[0m \u001b[0mcal\u001b[0m\u001b[0;34m.\u001b[0m\u001b[0mc2\u001b[0m\u001b[0;34m,\u001b[0m\u001b[0;34m\",\"\u001b[0m\u001b[0;34m,\u001b[0m\u001b[0mcal\u001b[0m\u001b[0;34m.\u001b[0m\u001b[0mc3\u001b[0m\u001b[0;34m,\u001b[0m\u001b[0;34m\" su promdio es: \"\u001b[0m\u001b[0;34m,\u001b[0m\u001b[0mp\u001b[0m \u001b[0;34m,\u001b[0m\u001b[0;34m\"esta\"\u001b[0m\u001b[0;34m,\u001b[0m\u001b[0mc\u001b[0m\u001b[0;34m)\u001b[0m\u001b[0;34m\u001b[0m\u001b[0;34m\u001b[0m\u001b[0m\n",
            "\u001b[0;31mNameError\u001b[0m: name 'cal' is not defined"
          ]
        }
      ],
      "source": [
        "class Calificaciones:\n",
        "\tdef __init__(self):\n",
        "\t\tself.c1= 0\n",
        "\t\tself.c2= 0\n",
        "\t\tself.c3= 0\n",
        "\t\tself.n= \"\"\n",
        "\tdef prom(self):\n",
        "\t\tr=(self.c1+self.c2+self.c3)/3\n",
        "\t\treturn r\n",
        "\tdef comparacion(self,num):\n",
        "\t\tif self.c1 >= 70 and self.c2 >= 70 and self.c3 >= 70:\n",
        "\t\t\tr=(self.c1+self.c2+self.c3)/3\n",
        "\t\telse:\n",
        "\t\t\tr = 0\n",
        "\t\treturn r\n",
        "\tdef cap(self):\n",
        "\t\tcal = Calificaciones()\n",
        "\t\tcal.c1 = int(input(\"Escribe la primera calificacion: \"))\n",
        "\t\tcal.c2 = int(input(\"Escribe la segunda calificacion: \"))\n",
        "\t\tcal.c3 = int(input(\"Escribe la tercera calificacion: \"))\n",
        "\t\tcal.n = input(\"Ingresa el nombre: \")\n",
        "\"\"\"cal.comparacion(cal.prom())\"\"\"\n",
        "p = cal.prom()\n",
        "c = cal.comparacion(p)\n",
        "print(cal.n,\" con calificaciones: \",cal.c1,\",\", cal.c2,\",\",cal.c3,\" su promdio es: \",p ,\"esta\",c)"
      ]
    }
  ]
}