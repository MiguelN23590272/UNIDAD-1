{
  "nbformat": 4,
  "nbformat_minor": 0,
  "metadata": {
    "colab": {
      "provenance": [],
      "authorship_tag": "ABX9TyMfU0Col0VPaJTpHKFio1SV",
      "include_colab_link": true
    },
    "kernelspec": {
      "name": "python3",
      "display_name": "Python 3"
    },
    "language_info": {
      "name": "python"
    }
  },
  "cells": [
    {
      "cell_type": "markdown",
      "metadata": {
        "id": "view-in-github",
        "colab_type": "text"
      },
      "source": [
        "<a href=\"https://colab.research.google.com/github/MiguelN23590272/UNIDAD-1/blob/main/practicaUno.ipynb\" target=\"_parent\"><img src=\"https://colab.research.google.com/assets/colab-badge.svg\" alt=\"Open In Colab\"/></a>"
      ]
    },
    {
      "cell_type": "code",
      "execution_count": 2,
      "metadata": {
        "id": "M1zJp6bBX6ne",
        "colab": {
          "base_uri": "https://localhost:8080/"
        },
        "outputId": "efce1949-1cd5-4cd2-ae59-e60c2a9f3fb3"
      },
      "outputs": [
        {
          "output_type": "stream",
          "name": "stdout",
          "text": [
            "hola mundo\n"
          ]
        }
      ],
      "source": [
        "print(\"hola mundo\")"
      ]
    },
    {
      "cell_type": "markdown",
      "source": [
        "Imprime saludo"
      ],
      "metadata": {
        "id": "OW_65KOUl8Hf"
      }
    },
    {
      "cell_type": "code",
      "source": [
        "class saludo:\n",
        "  print(\"Hola mundo\")\n",
        "\n",
        "s = saludo()\n"
      ],
      "metadata": {
        "colab": {
          "base_uri": "https://localhost:8080/"
        },
        "id": "O8dbo8xlmyeg",
        "outputId": "eaf1b4d1-0874-4794-b59b-2c418c83ce92"
      },
      "execution_count": 3,
      "outputs": [
        {
          "output_type": "stream",
          "name": "stdout",
          "text": [
            "Hola mundo\n"
          ]
        }
      ]
    },
    {
      "cell_type": "markdown",
      "source": [
        "Inicia la calse saludo"
      ],
      "metadata": {
        "id": "JgYXkNZVnwBa"
      }
    },
    {
      "cell_type": "code",
      "source": [
        "\n"
      ],
      "metadata": {
        "id": "L8ohuAPun0di"
      },
      "execution_count": null,
      "outputs": []
    }
  ]
}