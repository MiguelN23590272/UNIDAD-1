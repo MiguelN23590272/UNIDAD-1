{
  "nbformat": 4,
  "nbformat_minor": 0,
  "metadata": {
    "colab": {
      "provenance": [],
      "authorship_tag": "ABX9TyNT/J29+uS816cuZQNMq0Z5",
      "include_colab_link": true
    },
    "kernelspec": {
      "name": "python3",
      "display_name": "Python 3"
    },
    "language_info": {
      "name": "python"
    }
  },
  "cells": [
    {
      "cell_type": "markdown",
      "metadata": {
        "id": "view-in-github",
        "colab_type": "text"
      },
      "source": [
        "<a href=\"https://colab.research.google.com/github/MiguelN23590272/UNIDAD-1/blob/main/tareaUno.ipynb\" target=\"_parent\"><img src=\"https://colab.research.google.com/assets/colab-badge.svg\" alt=\"Open In Colab\"/></a>"
      ]
    },
    {
      "cell_type": "code",
      "execution_count": 1,
      "metadata": {
        "id": "ue2_LOhc9mxV"
      },
      "outputs": [],
      "source": [
        "class saludo:\n",
        "  def __init__(self,nombre):\n",
        "    self.h =\"Hola,\"+ nom\n"
      ]
    },
    {
      "cell_type": "markdown",
      "source": [
        "Definir el metodo que ejecute la clase llamada saludo.\n",
        "asi como definitr el metodo init"
      ],
      "metadata": {
        "id": "ILXcooZqWVcG"
      }
    },
    {
      "cell_type": "code",
      "source": [
        "  nom = input(\"Ingresa tu nombre: \")\n"
      ],
      "metadata": {
        "id": "-rQc8Ao7Wtfv"
      },
      "execution_count": null,
      "outputs": []
    },
    {
      "cell_type": "markdown",
      "source": [
        "Con la funcion input mostrar el mensaje de ingresa tu nombre que\n",
        "se almacenara en la variable nom"
      ],
      "metadata": {
        "id": "5IzhJFHPM8ts"
      }
    },
    {
      "cell_type": "code",
      "source": [
        "s = saludo(nom)\n",
        "print(s,h)"
      ],
      "metadata": {
        "colab": {
          "base_uri": "https://localhost:8080/",
          "height": 165
        },
        "id": "yZXwYgssNOtv",
        "outputId": "096613d2-50ad-4139-d2d0-e4d406380ab9"
      },
      "execution_count": null,
      "outputs": [
        {
          "output_type": "error",
          "ename": "NameError",
          "evalue": "name 'nom' is not defined",
          "traceback": [
            "\u001b[0;31m---------------------------------------------------------------------------\u001b[0m",
            "\u001b[0;31mNameError\u001b[0m                                 Traceback (most recent call last)",
            "\u001b[0;32m<ipython-input-6-330bc546bad8>\u001b[0m in \u001b[0;36m<cell line: 1>\u001b[0;34m()\u001b[0m\n\u001b[0;32m----> 1\u001b[0;31m \u001b[0ms\u001b[0m \u001b[0;34m=\u001b[0m \u001b[0msaludo\u001b[0m\u001b[0;34m(\u001b[0m\u001b[0;34m\"Hola\"\u001b[0m\u001b[0;34m,\u001b[0m\u001b[0mnom\u001b[0m\u001b[0;34m)\u001b[0m\u001b[0;34m\u001b[0m\u001b[0;34m\u001b[0m\u001b[0m\n\u001b[0m\u001b[1;32m      2\u001b[0m \u001b[0mprint\u001b[0m\u001b[0;34m(\u001b[0m\u001b[0ms\u001b[0m\u001b[0;34m,\u001b[0m\u001b[0mh\u001b[0m\u001b[0;34m)\u001b[0m\u001b[0;34m\u001b[0m\u001b[0;34m\u001b[0m\u001b[0m\n",
            "\u001b[0;31mNameError\u001b[0m: name 'nom' is not defined"
          ]
        }
      ]
    },
    {
      "cell_type": "markdown",
      "source": [
        "imprime el valor h y la variable s"
      ],
      "metadata": {
        "id": "0yMuM__SNz62"
      }
    }
  ]
}